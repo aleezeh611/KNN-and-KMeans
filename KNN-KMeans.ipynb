{
  "nbformat": 4,
  "nbformat_minor": 0,
  "metadata": {
    "colab": {
      "name": "A03_i180529.ipynb",
      "provenance": [],
      "collapsed_sections": [],
      "toc_visible": true
    },
    "kernelspec": {
      "display_name": "Python 3",
      "name": "python3"
    },
    "language_info": {
      "name": "python"
    }
  },
  "cells": [
    {
      "cell_type": "markdown",
      "metadata": {
        "id": "OQkKF37pqjWP"
      },
      "source": [
        "# **AI ASSIGNMENT 3**\n",
        "\n",
        "\n",
        "```\n",
        "Submitted By:\n",
        "  Aleezeh Usman\n",
        "  18I--0529\n",
        "\n",
        "Due Date: 10th June 2021\n",
        "```\n",
        "\n"
      ]
    },
    {
      "cell_type": "markdown",
      "metadata": {
        "id": "tKhbQbc9Y3aY"
      },
      "source": [
        "## Getting and setting up the data set\n",
        "\n",
        "Data Set Used: **DRY_BEANS_DATASET.XLSX**\n",
        "\n",
        "Attributes:\n",
        "\n",
        "\n",
        "1. Area (A): The area of a bean zone and the number of pixels within its boundaries.\n",
        "2. Perimeter (P): Bean circumference is defined as the length of its border.\n",
        "3. Major axis length (L): The distance between the ends of the longest line that can be drawn from a bean.\n",
        "4. Minor axis length (l): The longest line that can be drawn from the bean while standing perpendicular to the main axis.\n",
        "5. Aspect ratio (K): Defines the relationship between L and l.\n",
        "6. Eccentricity (Ec): Eccentricity of the ellipse having the same moments as the region.\n",
        "7. Convex area (C): Number of pixels in the smallest convex polygon that can contain the area of a bean seed.\n",
        "8. Equivalent diameter (Ed): The diameter of a circle having the same area as a bean seed area.\n",
        "9. Extent (Ex): The ratio of the pixels in the bounding box to the bean area.\n",
        "10. Solidity (S): Also known as convexity. The ratio of the pixels in the convex shell to those found in beans.\n",
        "11. Roundness (R): Calculated with the following formula: (4piA)/(P^2)\n",
        "12. Compactness (CO): Measures the roundness of an object: Ed/L\n",
        "13. ShapeFactor1 (SF1)\n",
        "14. ShapeFactor2 (SF2)\n",
        "15. ShapeFactor3 (SF3)\n",
        "16. ShapeFactor4 (SF4)\n",
        "17. Class (Seker, Barbunya, Bombay, Cali, Dermosan, Horoz and Sira)\n",
        "\n",
        "\n",
        "\n",
        "\n",
        "\n",
        "*(CLASS IS THE MOST IMPORTANT)* \n",
        "\n",
        "IMPORTANT POINTS\n",
        "- Use of Numpy Array to store our imported data"
      ]
    },
    {
      "cell_type": "code",
      "metadata": {
        "id": "HbOi804OsarZ"
      },
      "source": [
        "import numpy as np\n",
        "from numpy import random\n",
        "import pandas as pd\n",
        "import matplotlib.pyplot as plt\n",
        "%matplotlib inline"
      ],
      "execution_count": null,
      "outputs": []
    },
    {
      "cell_type": "code",
      "metadata": {
        "colab": {
          "background_save": true,
          "resources": {
            "http://localhost:8080/nbextensions/google.colab/files.js": {
              "data": "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",
              "headers": [
                [
                  "content-type",
                  "application/javascript"
                ]
              ],
              "ok": true,
              "status": 200,
              "status_text": ""
            }
          },
          "base_uri": "https://localhost:8080/",
          "height": 72
        },
        "id": "57lY3vfGuwbZ",
        "outputId": "94354ec5-5082-4a95-c229-95fa98ea2e20"
      },
      "source": [
        "# To store dataset in a Pandas Dataframe\n",
        "import io\n",
        "from google.colab import files\n",
        "uploaded = files.upload()\n"
      ],
      "execution_count": null,
      "outputs": [
        {
          "output_type": "display_data",
          "data": {
            "text/html": [
              "\n",
              "     <input type=\"file\" id=\"files-ee5fb553-ef75-4e96-aae2-e8c90c8f06c9\" name=\"files[]\" multiple disabled\n",
              "        style=\"border:none\" />\n",
              "     <output id=\"result-ee5fb553-ef75-4e96-aae2-e8c90c8f06c9\">\n",
              "      Upload widget is only available when the cell has been executed in the\n",
              "      current browser session. Please rerun this cell to enable.\n",
              "      </output>\n",
              "      <script src=\"/nbextensions/google.colab/files.js\"></script> "
            ],
            "text/plain": [
              "<IPython.core.display.HTML object>"
            ]
          },
          "metadata": {
            "tags": []
          }
        },
        {
          "output_type": "stream",
          "text": [
            "Saving Dry_Bean_Dataset.xlsx to Dry_Bean_Dataset (2).xlsx\n"
          ],
          "name": "stdout"
        }
      ]
    },
    {
      "cell_type": "code",
      "metadata": {
        "id": "YuNSCM31OA3g"
      },
      "source": [
        "pd_X = pd.read_excel(io.BytesIO(uploaded['Dry_Bean_Dataset.xlsx']))\n",
        "fulldata = np.array(pd_X)\n",
        "np.random.shuffle(fulldata)\n",
        "X = fulldata[0:500,:].copy()     #training data set\n",
        "testdata = fulldata[1000:1500,:].copy()    #testdata\n"
      ],
      "execution_count": null,
      "outputs": []
    },
    {
      "cell_type": "markdown",
      "metadata": {
        "id": "q9DLFiMSlU-B"
      },
      "source": [
        "COMPUTATION OF EUCLIDEAN DISTANCE BY USING THE MATH FORMULA :\n",
        "- **(x1,x2) - (y1,y2) - > ((x1-y1)^2 + (x2-y2)^2)^1/2** "
      ]
    },
    {
      "cell_type": "code",
      "metadata": {
        "id": "1T4k7SqkRF4X"
      },
      "source": [
        "def FindEuclideanDistance(x,y):\n",
        "  term1 = (x[0]-y[0])**2\n",
        "  term2 = (x[1]-y[1])**2\n",
        "  term3 = (x[2]-y[2])**2\n",
        "  term4 = (x[3]-y[3])**2\n",
        "  term5 = (x[4]-y[4])**2\n",
        "  term6 = (x[5]-y[5])**2\n",
        "  term7 = (x[6]-y[6])**2\n",
        "  term8 = (x[7]-y[7])**2\n",
        "  term9 = (x[8]-y[8])**2\n",
        "  term10 = (x[9]-y[9])**2\n",
        "  term11 = (x[10]-y[10])**2\n",
        "  term12 = (x[11]-y[11])**2\n",
        "  term13 = (x[12]-y[12])**2\n",
        "  term14 = (x[13]-y[13])**2\n",
        "  term15 = (x[14]-y[14])**2\n",
        "  term16 = (x[15]-y[15])**2\n",
        "\n",
        "  eu_dist = (term1 + term2 + term3 + term4 + term5 + term6 + term7 + term8 + term9 + term10 + term11 + term12 + term13 + term14 + term15 + term16)**(1/2)\n",
        "  return eu_dist"
      ],
      "execution_count": null,
      "outputs": []
    },
    {
      "cell_type": "markdown",
      "metadata": {
        "id": "XDDKopMRse7v"
      },
      "source": [
        "# **K-Mean Clustering Implementation**\n",
        "\n",
        "IMPORTANT:\n",
        "- Initial Centroids will be the first data point of each distinctive class"
      ]
    },
    {
      "cell_type": "code",
      "metadata": {
        "colab": {
          "base_uri": "https://localhost:8080/"
        },
        "id": "3R_jVFFuVtOP",
        "outputId": "20e9d74b-6e9a-4a30-cf89-13e3eb0a59b7"
      },
      "source": [
        "#setting up initial centroids\n",
        "storepandarow = []\n",
        "for i in range(len(X)):\n",
        "  if (X[i][16] == 'SEKER'):\n",
        "    storepandarow.append(X[i].copy())\n",
        "    break\n",
        "\n",
        "for i in range(len(X)):\n",
        "  if (X[i][16] == 'BARBUNYA'):\n",
        "    storepandarow.append(X[i].copy())\n",
        "    break\n",
        "\n",
        "for i in range(len(X)):\n",
        "  if (X[i][16] == 'BOMBAY'):\n",
        "    storepandarow.append(X[i].copy())\n",
        "    break\n",
        "\n",
        "for i in range(len(X)):\n",
        "  if (X[i][16] == 'CALI'):\n",
        "    storepandarow.append(X[i].copy())\n",
        "    break\n",
        "\n",
        "for i in range(len(X)):\n",
        "  if (X[i][16] == 'DERMASON'):\n",
        "    storepandarow.append(X[i].copy())\n",
        "    break\n",
        "\n",
        "for i in range(len(X)):\n",
        "  if (X[i][16] == 'HOROZ'):\n",
        "    storepandarow.append(X[i].copy())\n",
        "    break\n",
        "\n",
        "for i in range(len(X)):\n",
        "  if (X[i][16] == 'SIRA'):\n",
        "    storepandarow.append(X[i].copy())\n",
        "    break\n",
        "\n",
        "\n",
        "initial_centroids = np.array(storepandarow)\n",
        "print(initial_centroids)"
      ],
      "execution_count": null,
      "outputs": [
        {
          "output_type": "stream",
          "text": [
            "[[41251 743.0169999999999 250.64831039045086 209.90982427583037\n",
            "  1.1940761289051836 0.5464870693688317 41836 229.17767007252297\n",
            "  0.7937158469945356 0.9860168276125825 0.9389594654596868\n",
            "  0.9143395768976791 0.006076175374910932 0.0026196310953308785\n",
            "  0.8360168618814269 0.9982677781348337 'SEKER']\n",
            " [71536 1020.47 341.89852248692176 267.1090836836476 1.2799958645054974\n",
            "  0.6242151020008998 72443 301.79871449722015 0.790260931044387\n",
            "  0.9874798117140372 0.8632449234384865 0.8827142986813127\n",
            "  0.0047793911105865824 0.001789917361415484 0.7791845330964416\n",
            "  0.9973529800500921 'BARBUNYA']\n",
            " [146153 1476.3829999999998 526.1933263932928 356.52828795597384\n",
            "  1.4758810006634597 0.7354662103148757 149267 431.3789276050445\n",
            "  0.7319360977564102 0.9791380546269437 0.8425962592026347\n",
            "  0.8198107158862348 0.0036002909717439448 0.0010031635118937547\n",
            "  0.6720896098819007 0.9919242859680139 'BOMBAY']\n",
            " [84156 1125.18 435.70008509032346 247.4989462743194 1.7604118791172887\n",
            "  0.8229948162196264 85328 327.33888728156387 0.7988229710488847\n",
            "  0.9862647665479093 0.8353162708290982 0.7512940632400942\n",
            "  0.005177290806244635 0.0010174712598112138 0.5644427694598105\n",
            "  0.9936517564389115 'CALI']\n",
            " [26301 598.718 219.62136591721807 152.95457883457905 1.4358600284515797\n",
            "  0.7176085096904662 26571 182.99582854830192 0.7973866116905166\n",
            "  0.9898385457829965 0.9220139567981461 0.8332332684665962\n",
            "  0.008350304776138476 0.002482838644732209 0.6942776796795268\n",
            "  0.9968855688979422 'DERMASON']\n",
            " [60489 978.4219999999999 403.2256656881477 192.61186362485503\n",
            "  2.093462251491941 0.8785352135247888 61345 277.5193449500147\n",
            "  0.6552811179720507 0.9860461325291385 0.7940244034793238\n",
            "  0.6882482157389418 0.006666099054177582 0.0009226391993494103\n",
            "  0.4736856064678369 0.9916429362154835 'HOROZ']\n",
            " [49157 848.7929999999999 328.41448910237204 191.2522156206612\n",
            "  1.7171800495831384 0.8129380930420953 49734 250.17720979447026\n",
            "  0.745525964571706 0.9883982788434471 0.8574161430423697\n",
            "  0.7617727539313469 0.006680930266337898 0.001387773028946147\n",
            "  0.5802977286321485 0.9964756824255352 'SIRA']]\n"
          ],
          "name": "stdout"
        }
      ]
    },
    {
      "cell_type": "markdown",
      "metadata": {
        "id": "898gOMRjYgH3"
      },
      "source": [
        "Two Most Important Functions Used in K-Means Clustering:\n",
        "- Finding Closest Centroids using euclidean distance\n",
        "- Updating Centroids by finding average of the entire cluster"
      ]
    },
    {
      "cell_type": "code",
      "metadata": {
        "id": "FZzIQrTiue1r"
      },
      "source": [
        "# Assign every training example x^(i) to its closest centroid, given the current centroid positions\n",
        "def find_closest_centroids(X, centroids):\n",
        "  m = len(X) # no of datapoints\n",
        "  idx = np.zeros(m) # array to assign the centriod\n",
        "    \n",
        "  # Your Code Here\n",
        "  for i in range (m):\n",
        "    tempdist = list()\n",
        "    for j in range(7):\n",
        "      tempdist.append(FindEuclideanDistance(X[i],initial_centroids[j]))\n",
        "    distances = np.array(tempdist)\n",
        "    min_dist = np.argmin(distances)                                         #return the cluster number with minimum dist\n",
        "    idx[i] = min_dist                                                       #store assigned cluster number in a corresponding array\n",
        "    \n",
        "  return idx\n",
        "\n",
        "# Update Centroids\n",
        "def compute_centroids(X, idx, k):\n",
        "  m = len(X)\n",
        "  centroids = np.zeros((k, 16))  #7*16\n",
        "  '''Return Updated Values of all K centroids'''\n",
        "  \n",
        "  # Your Code Here\n",
        "  for i in range(k):\n",
        "    cols = list()\n",
        "    for j in range(16):\n",
        "      cols.append(0)\n",
        "    total = 0\n",
        "    for k in range(m):\n",
        "      if idx[k] == i:                             #for the categorized clusters add each column and then divide from total number of points in that specific cluster\n",
        "        for j in range(16):\n",
        "          cols[j] += X[k][j]\n",
        "        total += 1\n",
        "    if total != 0:\n",
        "      for j in range(16):\n",
        "        cols[j] = cols[j]/total\n",
        "        centroids[i][j] = cols[j]\n",
        "\n",
        "  return centroids   "
      ],
      "execution_count": null,
      "outputs": []
    },
    {
      "cell_type": "code",
      "metadata": {
        "id": "wEEmC5-duvzV"
      },
      "source": [
        "def run_k_means(X, initial_centroids, max_iters):\n",
        "  m = len(X)\n",
        "  k = initial_centroids.shape[0]\n",
        "  idx = np.zeros(m)\n",
        "  centroids = initial_centroids\n",
        "\n",
        "  for i in range(max_iters):\n",
        "    # find closest centroid\n",
        "    idx = find_closest_centroids(X, centroids)\n",
        "    #update centroids\n",
        "    centroids = compute_centroids(X, idx, k)\n",
        "\n",
        "  return idx, centroids\n",
        " "
      ],
      "execution_count": null,
      "outputs": []
    },
    {
      "cell_type": "code",
      "metadata": {
        "id": "hL0Q63xycIGA"
      },
      "source": [
        "np.random.shuffle(X)\n",
        "\"\"\"\n",
        "cluster1 = X[0:1944,:]\n",
        "cluster2 = X[1944:3888,:]\n",
        "cluster3 = X[3888:5832,:]\n",
        "cluster4 = X[5832:7776,:]\n",
        "cluster5 = X[7776:9720,:]\n",
        "cluster6 = X[9720:11664,:]\n",
        "cluster7 = X[11664:13610,:]\n",
        "\"\"\"\n",
        "cluster1 = X[0:71,:]\n",
        "cluster2 = X[71:142,:]\n",
        "cluster3 = X[142:213,:]\n",
        "cluster4 = X[213:284,:]\n",
        "cluster5 = X[284:355,:]\n",
        "cluster6 = X[355:426,:]\n",
        "cluster7 = X[426:500,:]\n",
        "idx, centroids = run_k_means(X, initial_centroids, 100)# use 2000 max iterations to perform clustering"
      ],
      "execution_count": null,
      "outputs": []
    },
    {
      "cell_type": "markdown",
      "metadata": {
        "id": "ptKExprenKbX"
      },
      "source": [
        "# **K-Means Clustering Visualization**\n",
        "Using Matplotlib"
      ]
    },
    {
      "cell_type": "code",
      "metadata": {
        "colab": {
          "base_uri": "https://localhost:8080/",
          "height": 500
        },
        "id": "cG7uA2jahf4s",
        "outputId": "b0c8a011-faad-41cb-c0f2-e4acd78bc7d1"
      },
      "source": [
        "k_Meancluster1 = X[np.where(idx == 0)[0],:]\n",
        "k_Meancluster2 = X[np.where(idx == 1)[0],:]\n",
        "k_Meancluster3 = X[np.where(idx == 2)[0],:]\n",
        "k_Meancluster4 = X[np.where(idx == 3)[0],:]\n",
        "k_Meancluster5 = X[np.where(idx == 4)[0],:]\n",
        "k_Meancluster6 = X[np.where(idx == 5)[0],:]\n",
        "k_Meancluster7 = X[np.where(idx == 6)[0],:]\n",
        "\n",
        "fig, ax = plt.subplots(figsize=(12,8))\n",
        "ax.scatter(cluster1[:,0], cluster1[:,1], s=30, color='r', label='Cluster 1')\n",
        "ax.scatter(cluster2[:,0], cluster2[:,1], s=30, color='g', label='Cluster 2')\n",
        "ax.scatter(cluster3[:,0], cluster3[:,1], s=30, color='b', label='Cluster 3')\n",
        "ax.scatter(cluster4[:,0], cluster4[:,1], s=30, color='c', label='Cluster 4')\n",
        "ax.scatter(cluster5[:,0], cluster5[:,1], s=30, color='m', label='Cluster 5')\n",
        "ax.scatter(cluster6[:,0], cluster6[:,1], s=30, color='y', label='Cluster 6')\n",
        "ax.scatter(cluster7[:,0], cluster7[:,1], s=30, color='k', label='Cluster 7')\n",
        "\n",
        "ax.legend()\n"
      ],
      "execution_count": null,
      "outputs": [
        {
          "output_type": "execute_result",
          "data": {
            "text/plain": [
              "<matplotlib.legend.Legend at 0x7fc11f6247d0>"
            ]
          },
          "metadata": {
            "tags": []
          },
          "execution_count": 35
        },
        {
          "output_type": "display_data",
          "data": {
            "image/png": "[encoded data removed]",
            "text/plain": [
              "<Figure size 864x576 with 1 Axes>"
            ]
          },
          "metadata": {
            "tags": []
          }
        }
      ]
    },
    {
      "cell_type": "code",
      "metadata": {
        "colab": {
          "base_uri": "https://localhost:8080/",
          "height": 500
        },
        "id": "dWxebl7Rm1_K",
        "outputId": "696bd211-a280-4ea0-c4bf-53c4c02f9c39"
      },
      "source": [
        "fig, ax = plt.subplots(figsize=(12,8))\n",
        "ax.scatter(k_Meancluster1[:,0], k_Meancluster1[:,1], s=30, color='r', label='Cluster 1')\n",
        "ax.scatter(k_Meancluster2[:,0], k_Meancluster2[:,1], s=30, color='g', label='Cluster 2')\n",
        "ax.scatter(k_Meancluster3[:,0], k_Meancluster3[:,1], s=30, color='b', label='Cluster 3')\n",
        "ax.scatter(k_Meancluster4[:,0], k_Meancluster4[:,1], s=30, color='c', label='Cluster 4')\n",
        "ax.scatter(k_Meancluster5[:,0], k_Meancluster5[:,1], s=30, color='m', label='Cluster 5')\n",
        "ax.scatter(k_Meancluster6[:,0], k_Meancluster6[:,1], s=30, color='y', label='Cluster 6')\n",
        "ax.scatter(k_Meancluster7[:,0], k_Meancluster7[:,1], s=30, color='k', label='Cluster 7')\n",
        "\n",
        "\n",
        "ax.legend()"
      ],
      "execution_count": null,
      "outputs": [
        {
          "output_type": "execute_result",
          "data": {
            "text/plain": [
              "<matplotlib.legend.Legend at 0x7fc11ec77e50>"
            ]
          },
          "metadata": {
            "tags": []
          },
          "execution_count": 36
        },
        {
          "output_type": "display_data",
          "data": {
            "image/png": "[encoded data removed]",
            "text/plain": [
              "<Figure size 864x576 with 1 Axes>"
            ]
          },
          "metadata": {
            "tags": []
          }
        }
      ]
    },
    {
      "cell_type": "markdown",
      "metadata": {
        "id": "m-b4U0ya72yq"
      },
      "source": [
        "# **DB INDEX EVALUATION OF K-MEANS**"
      ]
    },
    {
      "cell_type": "code",
      "metadata": {
        "id": "7z-w1veR7_d3"
      },
      "source": [
        "def interclusterdist(i, x, idx):\n",
        "  m = len(x)\n",
        "  maxdist = -1\n",
        "  d = 0\n",
        "  total = 0\n",
        "  \n",
        "  for k1 in range(m):\n",
        "    if idx[k1] == i:\n",
        "      for k2 in range(m):\n",
        "        if idx[k2] == i and k1 != k2 :\n",
        "          d += FindEuclideanDistance(X[k1],X[k2])\n",
        "          total += 1\n",
        "    \n",
        "  if(total != 0):\n",
        "    return d/total\n",
        "  else :\n",
        "    print(i)\n",
        "    return 0\n",
        "\n",
        "def intraclusterdist(i, j, centroids):\n",
        "   return FindEuclideanDistance(centroids[i],centroids[j])\n"
      ],
      "execution_count": null,
      "outputs": []
    },
    {
      "cell_type": "code",
      "metadata": {
        "id": "bxRgd1qT77SK"
      },
      "source": [
        "def compute_DB_index(X, clusters, nc):\n",
        "  sigmax = 0\n",
        "  for i in range(nc):\n",
        "    sigmai = interclusterdist(i,X,idx)\n",
        "    maxval = -9999\n",
        "    for j in range(nc):\n",
        "      if i != j:\n",
        "        sigmaj = interclusterdist(j,X,idx)\n",
        "        distbetweenclusters = intraclusterdist(i,j,centroids)\n",
        "        storeval = (sigmai+sigmaj)/distbetweenclusters\n",
        "        if storeval > maxval:\n",
        "          maxval = storeval\n",
        "    sigmax += maxval\n",
        "\n",
        "  return sigmax/nc"
      ],
      "execution_count": null,
      "outputs": []
    },
    {
      "cell_type": "code",
      "metadata": {
        "colab": {
          "base_uri": "https://localhost:8080/"
        },
        "id": "ahsdL3aG84lP",
        "outputId": "c3387b8b-3487-4b1b-9cfb-7c7e4b26564d"
      },
      "source": [
        "compute_DB_index(X,centroids, 7)"
      ],
      "execution_count": null,
      "outputs": [
        {
          "output_type": "execute_result",
          "data": {
            "text/plain": [
              "0.6748405984600827"
            ]
          },
          "metadata": {
            "tags": []
          },
          "execution_count": 40
        }
      ]
    },
    {
      "cell_type": "markdown",
      "metadata": {
        "id": "G-W_MTnLidR_"
      },
      "source": [
        "# **KNN IMPLEMENTATION**"
      ]
    },
    {
      "cell_type": "code",
      "metadata": {
        "id": "0ztY1RWDi7F6"
      },
      "source": [
        "#Reset the data\n",
        "X = fulldata[0:500,:].copy()     #training data set\n",
        "testdata = fulldata[1000:1500,:].copy()    #testdata\n",
        "\"\"\"\n",
        "cluster1 = testdata[0:659,:]\n",
        "cluster2 = testdata[659:1318,:]\n",
        "cluster3 = testdata[1318:1977,:]\n",
        "cluster4 = testdata[1977:2636,:]\n",
        "cluster5 = testdata[2636:3295,:]\n",
        "cluster6 = testdata[3295:3954,:]\n",
        "cluster7 = testdata[3954:4609,:]\n",
        "\"\"\"\n",
        "cluster1 = X[0:71,:]\n",
        "cluster2 = X[71:142,:]\n",
        "cluster3 = X[142:213,:]\n",
        "cluster4 = X[213:284,:]\n",
        "cluster5 = X[284:355,:]\n",
        "cluster6 = X[355:426,:]\n",
        "cluster7 = X[426:500,:]"
      ],
      "execution_count": null,
      "outputs": []
    },
    {
      "cell_type": "code",
      "metadata": {
        "id": "ZVK2oT8xjFXg"
      },
      "source": [
        "def classification_by_closest_neighbour(X, datapoint, k):\n",
        "  m = len(X)\n",
        "  distances = list()\n",
        "\n",
        "  for i in range(m):\n",
        "    dist = FindEuclideanDistance(datapoint,X[i])\n",
        "    distances.append([X[i],dist])\n",
        "\n",
        "  distances.sort(key = lambda x: x[1])\n",
        "  closestneighbours = list()\n",
        "  for i in range(k):\n",
        "    closestneighbours.append(distances[i][0][16])\n",
        "\n",
        "  return max(set(closestneighbours), key = closestneighbours.count)"
      ],
      "execution_count": null,
      "outputs": []
    },
    {
      "cell_type": "code",
      "metadata": {
        "id": "1kXEvrSzkZAV"
      },
      "source": [
        "def KNN(X,testdata):\n",
        "  k = 200                                                                       #number of closest neighbours to chose from\n",
        "  m = len(testdata)\n",
        "  classes = list()\n",
        "  idx = np.empty(m,dtype = object)\n",
        "\n",
        "  for i in range(m):\n",
        "    foundclass = classification_by_closest_neighbour(X,testdata[i],k)\n",
        "    idx[i] = foundclass\n",
        "\n",
        "  return idx\n",
        "  "
      ],
      "execution_count": null,
      "outputs": []
    },
    {
      "cell_type": "code",
      "metadata": {
        "id": "mmELXPRfvxp9"
      },
      "source": [
        "storeclasses = KNN(X,testdata)"
      ],
      "execution_count": null,
      "outputs": []
    },
    {
      "cell_type": "markdown",
      "metadata": {
        "id": "X_QK-1HO0YKU"
      },
      "source": [
        "# **KNN VISUALIZATION**"
      ]
    },
    {
      "cell_type": "code",
      "metadata": {
        "colab": {
          "base_uri": "https://localhost:8080/",
          "height": 500
        },
        "id": "voxj2TZi0R__",
        "outputId": "617a9835-80e6-482c-d436-e3e8836fdd63"
      },
      "source": [
        "fig, ax = plt.subplots(figsize=(12,8))\n",
        "ax.scatter(cluster1[:,0], cluster1[:,1], s=30, color='r', label='Cluster 1')\n",
        "ax.scatter(cluster2[:,0], cluster2[:,1], s=30, color='g', label='Cluster 2')\n",
        "ax.scatter(cluster3[:,0], cluster3[:,1], s=30, color='b', label='Cluster 3')\n",
        "ax.scatter(cluster4[:,0], cluster4[:,1], s=30, color='c', label='Cluster 4')\n",
        "ax.scatter(cluster5[:,0], cluster5[:,1], s=30, color='m', label='Cluster 5')\n",
        "ax.scatter(cluster6[:,0], cluster6[:,1], s=30, color='y', label='Cluster 6')\n",
        "ax.scatter(cluster7[:,0], cluster7[:,1], s=30, color='k', label='Cluster 7')\n",
        "\n",
        "ax.legend()\n"
      ],
      "execution_count": null,
      "outputs": [
        {
          "output_type": "execute_result",
          "data": {
            "text/plain": [
              "<matplotlib.legend.Legend at 0x7fc11f98e750>"
            ]
          },
          "metadata": {
            "tags": []
          },
          "execution_count": 47
        },
        {
          "output_type": "display_data",
          "data": {
            "image/png": "[encoded data removed]",
            "text/plain": [
              "<Figure size 864x576 with 1 Axes>"
            ]
          },
          "metadata": {
            "tags": []
          }
        }
      ]
    },
    {
      "cell_type": "code",
      "metadata": {
        "colab": {
          "base_uri": "https://localhost:8080/",
          "height": 500
        },
        "id": "r_qxOtrG0xRf",
        "outputId": "dfc8968f-b218-4304-c145-5afb6badf3c2"
      },
      "source": [
        "k_Meancluster1 = testdata[np.where(storeclasses == \"SEKER\")[0],:]\n",
        "k_Meancluster2 = testdata[np.where(storeclasses == \"BURBUNYA\")[0],:]\n",
        "k_Meancluster3 = testdata[np.where(storeclasses == \"BOMBAY\")[0],:]\n",
        "k_Meancluster4 = testdata[np.where(storeclasses == \"CALI\")[0],:]\n",
        "k_Meancluster5 = testdata[np.where(storeclasses == \"DERMASON\")[0],:]\n",
        "k_Meancluster6 = testdata[np.where(storeclasses == \"HOROZ\")[0],:]\n",
        "k_Meancluster7 = testdata[np.where(storeclasses == \"SIRA\")[0],:]\n",
        "\n",
        "fig, ax = plt.subplots(figsize=(12,8))\n",
        "ax.scatter(k_Meancluster1[:,0], k_Meancluster1[:,1], s=30, color='r', label='Cluster 1')\n",
        "ax.scatter(k_Meancluster2[:,0], k_Meancluster2[:,1], s=30, color='g', label='Cluster 2')\n",
        "ax.scatter(k_Meancluster3[:,0], k_Meancluster3[:,1], s=30, color='b', label='Cluster 3')\n",
        "ax.scatter(k_Meancluster4[:,0], k_Meancluster4[:,1], s=30, color='c', label='Cluster 4')\n",
        "ax.scatter(k_Meancluster5[:,0], k_Meancluster5[:,1], s=30, color='m', label='Cluster 5')\n",
        "ax.scatter(k_Meancluster6[:,0], k_Meancluster6[:,1], s=30, color='y', label='Cluster 6')\n",
        "ax.scatter(k_Meancluster7[:,0], k_Meancluster7[:,1], s=30, color='k', label='Cluster 7')\n",
        "\n",
        "ax.legend()"
      ],
      "execution_count": null,
      "outputs": [
        {
          "output_type": "execute_result",
          "data": {
            "text/plain": [
              "<matplotlib.legend.Legend at 0x7fc11f8f9f90>"
            ]
          },
          "metadata": {
            "tags": []
          },
          "execution_count": 48
        },
        {
          "output_type": "display_data",
          "data": {
            "image/png": "[encoded data removed]",
            "text/plain": [
              "<Figure size 864x576 with 1 Axes>"
            ]
          },
          "metadata": {
            "tags": []
          }
        }
      ]
    },
    {
      "cell_type": "markdown",
      "metadata": {
        "id": "n6lz0jBU3qyX"
      },
      "source": [
        "# **EVALUATION METRICS**\n",
        "- DB Index for K - Means\n",
        "- For KNN: \n",
        "- - Accuracy\n",
        "- - Precision\n",
        "- - Recall\n",
        "- - F1-measure"
      ]
    },
    {
      "cell_type": "code",
      "metadata": {
        "id": "wNpYKqBByRK7"
      },
      "source": [
        "def GetAccuracy(testdata, storeclasses):\n",
        "  count = 0\n",
        "  for i in range(len(testdata)):                                  #counting total number of correct labels\n",
        "    if testdata[i][16] == storeclasses[i]:\n",
        "      count+=1\n",
        "  acc = count/len(testdata)\n",
        "  print(\"Accuracy: \", end = \"\")\n",
        "  print(acc)"
      ],
      "execution_count": null,
      "outputs": []
    },
    {
      "cell_type": "code",
      "metadata": {
        "id": "8rbvuI3B3qde"
      },
      "source": [
        "def GetPrecision(testdata, storeclasses):\n",
        "  countSeker = 0\n",
        "  countBarbunya = 0\n",
        "  countBombay = 0\n",
        "  countCali = 0\n",
        "  countDermosan = 0\n",
        "  countHoroz = 0\n",
        "  countSira = 0\n",
        "  totalSeker = np.count_nonzero(storeclasses == \"SEKER\")\n",
        "  totalBarbunya = np.count_nonzero(storeclasses == \"BARBUNYA\")\n",
        "  totalBombay = np.count_nonzero(storeclasses == \"BOMBAY\")\n",
        "  totalCali = np.count_nonzero(storeclasses == \"CALI\")\n",
        "  totalDermosan = np.count_nonzero(storeclasses == \"DERMASON\")\n",
        "  totalHoroz = np.count_nonzero(storeclasses == \"HOROZ\")\n",
        "  totalSira = np.count_nonzero(storeclasses == \"SIRA\")\n",
        "\n",
        "  for i in range(len(testdata)):\n",
        "    if testdata[i][16] == storeclasses[i]:\n",
        "      if testdata[i][16] == 'SEKER':\n",
        "        countSeker += 1\n",
        "      elif testdata[i][16] == 'BARBUNYA':\n",
        "        countBarbunya += 1\n",
        "      elif testdata[i][16] == 'BOMBAY':\n",
        "        countBombay += 1\n",
        "      elif testdata[i][16] == 'CALI':\n",
        "        countCali += 1\n",
        "      elif testdata[i][16] == 'DERMASON':\n",
        "        countDermosan += 1\n",
        "      elif testdata[i][16] == 'HOROZ':\n",
        "        countHoroz += 1\n",
        "      elif testdata[i][16] == 'SIRA':\n",
        "        countSira += 1\n",
        "\n",
        "    \n",
        "  print(\"PRECISION FOR EACH CLASS\")\n",
        "  if totalSeker != 0:\n",
        "    print(\"- SEKER: \" + str(countSeker/totalSeker))\n",
        "  if totalBarbunya != 0:\n",
        "    print(\"- BARBUNYA: \" + str(countBarbunya/totalBarbunya))\n",
        "  if totalBombay != 0:\n",
        "    print(\"- BOMBAY: \" + str(countBombay/totalBombay))\n",
        "  if totalCali != 0:\n",
        "    print(\"- CALI: \" + str(countCali/totalCali))\n",
        "  if totalDermosan != 0:\n",
        "    print(\"- DERMASON: \" + str(countDermosan/totalDermosan))\n",
        "  if totalHoroz != 0:\n",
        "    print(\"- HOROZ: \" + str(countHoroz/totalHoroz))\n",
        "  if totalSira != 0:\n",
        "    print(\"- SIRA: \" + str(countSira/totalSira))\n",
        "  print(\"OVERALL PRECISION: \" + str((countSeker+countBarbunya+countBombay+countCali+countDermosan+countHoroz+countSira)/(totalSeker+totalBarbunya+totalBombay+totalCali+totalDermosan+totalHoroz+totalSira)))\n",
        "  "
      ],
      "execution_count": null,
      "outputs": []
    },
    {
      "cell_type": "code",
      "metadata": {
        "id": "THOAuuT_D9JR"
      },
      "source": [
        "def GetRecall(storeclasses, testdata):\n",
        "  countSeker = 0\n",
        "  countBarbunya = 0\n",
        "  countBombay = 0\n",
        "  countCali = 0\n",
        "  countDermosan = 0\n",
        "  countHoroz = 0\n",
        "  countSira = 0\n",
        "  totalSeker = np.count_nonzero(testdata == \"SEKER\")\n",
        "  totalBarbunya = np.count_nonzero(testdata == \"BARBUNYA\")\n",
        "  totalBombay = np.count_nonzero(testdata == \"BOMBAY\")\n",
        "  totalCali = np.count_nonzero(testdata == \"CALI\")\n",
        "  totalDermosan = np.count_nonzero(testdata == \"DERMASON\")\n",
        "  totalHoroz = np.count_nonzero(testdata == \"HOROZ\")\n",
        "  totalSira = np.count_nonzero(testdata == \"SIRA\")\n",
        "\n",
        "  for i in range(len(testdata)):\n",
        "    if testdata[i][16] == storeclasses[i]:\n",
        "      if testdata[i][16] == 'SEKER':\n",
        "        countSeker += 1\n",
        "      elif testdata[i][16] == 'BARBUNYA':\n",
        "        countBarbunya += 1\n",
        "      elif testdata[i][16] == 'BOMBAY':\n",
        "        countBombay += 1\n",
        "      elif testdata[i][16] == 'CALI':\n",
        "        countCali += 1\n",
        "      elif testdata[i][16] == 'DERMASON':\n",
        "        countDermosan += 1\n",
        "      elif testdata[i][16] == 'HOROZ':\n",
        "        countHoroz += 1\n",
        "      elif testdata[i][16] == 'SIRA':\n",
        "        countSira += 1\n",
        "\n",
        "  print(\"RECALL FOR EACH CLASS\")\n",
        "  if totalSeker != 0:\n",
        "    print(\"- SEKER: \" + str(countSeker/totalSeker))\n",
        "  if totalBarbunya != 0:\n",
        "    print(\"- BARBUNYA: \" + str(countBarbunya/totalBarbunya))\n",
        "  if totalBombay != 0:\n",
        "    print(\"- BOMBAY: \" + str(countBombay/totalBombay))\n",
        "  if totalCali != 0:\n",
        "    print(\"- CALI: \" + str(countCali/totalCali))\n",
        "  if totalDermosan != 0:\n",
        "    print(\"- DERMASON: \" + str(countDermosan/totalDermosan))\n",
        "  if totalHoroz != 0:\n",
        "    print(\"- HOROZ: \" + str(countHoroz/totalHoroz))\n",
        "  if totalSira != 0:\n",
        "    print(\"- SIRA: \" + str(countSira/totalSira))\n",
        "  print(\"OVERALL RECALL: \" + str((countSeker+countBarbunya+countBombay+countCali+countDermosan+countHoroz+countSira)/(totalSeker+totalBarbunya+totalBombay+totalCali+totalDermosan+totalHoroz+totalSira)))"
      ],
      "execution_count": null,
      "outputs": []
    },
    {
      "cell_type": "code",
      "metadata": {
        "id": "RMVUae4LEtvC"
      },
      "source": [
        "def GetF1Measure(storeclasses, testdata):\n",
        "  countSeker = 0\n",
        "  countBarbunya = 0\n",
        "  countBombay = 0\n",
        "  countCali = 0\n",
        "  countDermosan = 0\n",
        "  countHoroz = 0\n",
        "  countSira = 0\n",
        "  r_totalSeker = np.count_nonzero(testdata == \"SEKER\")\n",
        "  r_totalBarbunya = np.count_nonzero(testdata == \"BARBUNYA\")\n",
        "  r_totalBombay = np.count_nonzero(testdata == \"BOMBAY\")\n",
        "  r_totalCali = np.count_nonzero(testdata == \"CALI\")\n",
        "  r_totalDermosan = np.count_nonzero(testdata == \"DERMASON\")\n",
        "  r_totalHoroz = np.count_nonzero(testdata == \"HOROZ\")\n",
        "  r_totalSira = np.count_nonzero(testdata == \"SIRA\")\n",
        "  p_totalSeker = np.count_nonzero(storeclasses == \"SEKER\")\n",
        "  p_totalBarbunya = np.count_nonzero(storeclasses == \"BARBUNYA\")\n",
        "  p_totalBombay = np.count_nonzero(storeclasses == \"BOMBAY\")\n",
        "  p_totalCali = np.count_nonzero(storeclasses == \"CALI\")\n",
        "  p_totalDermosan = np.count_nonzero(storeclasses == \"DERMASON\")\n",
        "  p_totalHoroz = np.count_nonzero(storeclasses == \"HOROZ\")\n",
        "  p_totalSira = np.count_nonzero(storeclasses == \"SIRA\")\n",
        "\n",
        "  for i in range(len(testdata)):\n",
        "    if testdata[i][16] == storeclasses[i]:\n",
        "      if testdata[i][16] == 'SEKER':\n",
        "        countSeker += 1\n",
        "      elif testdata[i][16] == 'BARBUNYA':\n",
        "        countBarbunya += 1\n",
        "      elif testdata[i][16] == 'BOMBAY':\n",
        "        countBombay += 1\n",
        "      elif testdata[i][16] == 'CALI':\n",
        "        countCali += 1\n",
        "      elif testdata[i][16] == 'DERMASON':\n",
        "        countDermosan += 1\n",
        "      elif testdata[i][16] == 'HOROZ':\n",
        "        countHoroz += 1\n",
        "      elif testdata[i][16] == 'SIRA':\n",
        "        countSira += 1\n",
        "\n",
        "  #RECALL FOR EACH CLASS\n",
        "  if r_totalSeker != 0:\n",
        "    r_seker = countSeker/r_totalSeker\n",
        "  else:\n",
        "    r_seker = 0\n",
        "  if r_totalBarbunya != 0:\n",
        "    r_barbunya = countBarbunya/r_totalBarbunya\n",
        "  else:\n",
        "    r_totalBarbunya = 0\n",
        "  if r_totalBombay != 0:\n",
        "    r_bombay = countBombay/r_totalBombay\n",
        "  else:\n",
        "    r_bombay = 0\n",
        "  if r_totalCali != 0:\n",
        "    r_cali = countCali/r_totalCali\n",
        "  else:\n",
        "    r_cali = 0\n",
        "  if r_totalDermosan != 0:\n",
        "    r_dermosan = countDermosan/r_totalDermosan\n",
        "  else:\n",
        "    r_dermosan = 0\n",
        "  if r_totalHoroz != 0:\n",
        "    r_horoz = countHoroz/r_totalHoroz\n",
        "  else:\n",
        "    r_horoz = 0\n",
        "  if r_totalSira != 0:\n",
        "    r_sira = countSira/r_totalSira\n",
        "  else:\n",
        "    r_sira =  0\n",
        "  #precision for each class\n",
        "  if p_totalSeker != 0:\n",
        "    p_seker = countSeker/p_totalSeker\n",
        "  else:\n",
        "    p_seker = 0\n",
        "  if p_totalBarbunya != 0:\n",
        "    p_barbunya = countBarbunya/p_totalBarbunya\n",
        "  else:\n",
        "    p_barbunya = 0\n",
        "  if p_totalBombay != 0:\n",
        "    p_bombay = countBombay/p_totalBombay\n",
        "  else:\n",
        "    p_bombay = 0\n",
        "  if p_totalCali != 0:\n",
        "    p_cali = countCali/p_totalCali\n",
        "  else:\n",
        "    p_cali = 0\n",
        "  if p_totalDermosan != 0:\n",
        "    p_dermosan = countDermosan/p_totalDermosan\n",
        "  else:\n",
        "    p_dermosan = 0\n",
        "  if p_totalHoroz != 0:\n",
        "    p_horoz = countHoroz/p_totalHoroz\n",
        "  else:\n",
        "    p_horoz = 0\n",
        "  if p_totalSira != 0:\n",
        "    p_sira = countSira/p_totalSira\n",
        "  else:\n",
        "    p_sira = 0\n",
        "\n",
        "  print(\"F1 Measure for each class\")\n",
        "  if (r_seker+p_seker != 0):\n",
        "    print(\"- SEKER: \" + str((2*r_seker*p_seker)/(r_seker+p_seker)))\n",
        "  if (r_barbunya + p_barbunya) != 0:\n",
        "    print(\"- BARBUNYA: \" + str((2*r_barbunya*p_barbunya)/(r_barbunya+p_barbunya)))\n",
        "  if (r_bombay + p_bombay) != 0:\n",
        "    print(\"- BOMBAY: \" + str((2*r_bombay*p_bombay)/(r_bombay+p_bombay)))\n",
        "  if (r_cali + p_cali) != 0:\n",
        "    print(\"- CALI: \" + str((2*r_cali*p_cali)/(r_cali+p_cali)))\n",
        "  if ( r_dermosan + p_dermosan) != 0:\n",
        "    print(\"- DERMASON: \" + str((2*r_dermosan*p_dermosan)/(r_dermosan+p_dermosan)))\n",
        "  if ( r_horoz + p_horoz) != 0:\n",
        "    print(\"- HOROZ: \" + str((2*r_horoz*p_horoz)/(r_horoz+p_horoz)))\n",
        "  if ( r_sira + p_sira) != 0:\n",
        "    print(\"- SIRA: \" + str((2*r_sira*p_sira)/(r_sira+p_sira)))\n",
        " # print(\"\\nMACRO F1 - Score: \", end = \"\")\n",
        " # print(str( (((2*r_seker*p_seker)/(r_seker+p_seker))+((2*r_barbunya*p_barbunya)/(r_barbunya+p_barbunya))+((2*r_bombay*p_bombay)/(r_bombay+p_bombay))+((2*r_cali*p_cali)/(r_cali+p_cali))+((2*r_dermosan*p_dermosan)/(r_dermosan+p_dermosan))+((2*r_horoz*p_horoz)/(r_horoz+p_horoz))+(2*r_sira*p_sira)/(r_sira+p_sira))/7 ))\n",
        "\n"
      ],
      "execution_count": null,
      "outputs": []
    },
    {
      "cell_type": "code",
      "metadata": {
        "id": "pIXs-dmVHGiS"
      },
      "source": [
        "def EvaluateKNN(storeclasses, testdata):\n",
        "  print(\"When we are calculating the metrics globally all the measures become equal therefore:\\nPrecision = Recall = Micro F1 = Accuracy\")\n",
        "  GetAccuracy(testdata, storeclasses)\n",
        "  GetPrecision(testdata,storeclasses)\n",
        "  GetRecall(storeclasses, testdata)\n",
        "  GetF1Measure(storeclasses,testdata)"
      ],
      "execution_count": null,
      "outputs": []
    },
    {
      "cell_type": "code",
      "metadata": {
        "colab": {
          "base_uri": "https://localhost:8080/"
        },
        "id": "yqqYBNkbHyu-",
        "outputId": "dcb94200-0aa7-4dba-cc04-cd29c7c70e0c"
      },
      "source": [
        "EvaluateKNN(storeclasses, testdata)"
      ],
      "execution_count": null,
      "outputs": [
        {
          "output_type": "stream",
          "text": [
            "When we are calculating the metrics globally all the measures become equal therefore:\n",
            "Precision = Recall = Micro F1 = Accuracy\n",
            "Accuracy: 0.536\n",
            "PRECISION FOR EACH CLASS\n",
            "- SEKER: 0.75\n",
            "- CALI: 0.4727272727272727\n",
            "- DERMASON: 0.7098765432098766\n",
            "- HOROZ: 0.5384615384615384\n",
            "- SIRA: 0.4312796208530806\n",
            "OVERALL PRECISION: 0.536\n",
            "RECALL FOR EACH CLASS\n",
            "- SEKER: 0.03333333333333333\n",
            "- BARBUNYA: 0.0\n",
            "- BOMBAY: 0.0\n",
            "- CALI: 0.9629629629629629\n",
            "- DERMASON: 0.9349593495934959\n",
            "- HOROZ: 0.0958904109589041\n",
            "- SIRA: 0.9381443298969072\n",
            "OVERALL RECALL: 0.536\n",
            "F1 Measure for each class\n",
            "- SEKER: 0.06382978723404256\n",
            "- CALI: 0.6341463414634146\n",
            "- DERMASON: 0.8070175438596491\n",
            "- HOROZ: 0.1627906976744186\n",
            "- SIRA: 0.5909090909090908\n"
          ],
          "name": "stdout"
        }
      ]
    }
  ]
}